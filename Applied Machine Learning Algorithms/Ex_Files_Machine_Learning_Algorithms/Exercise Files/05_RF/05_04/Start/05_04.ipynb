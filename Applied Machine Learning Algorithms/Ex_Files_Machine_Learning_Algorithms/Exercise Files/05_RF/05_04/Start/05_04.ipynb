{
 "cells": [
  {
   "cell_type": "markdown",
   "metadata": {},
   "source": [
    "## Random Forest: Fit and evaluate a model\n",
    "\n",
    "Using the Titanic dataset from [this](https://www.kaggle.com/c/titanic/overview) Kaggle competition.\n",
    "\n",
    "In this section, we will fit and evaluate a simple Random Forest model."
   ]
  },
  {
   "cell_type": "markdown",
   "metadata": {},
   "source": [
    "### Read in Data"
   ]
  },
  {
   "cell_type": "code",
   "execution_count": 1,
   "metadata": {},
   "outputs": [],
   "source": [
    "import joblib\n",
    "import pandas as pd\n",
    "from sklearn.ensemble import RandomForestClassifier\n",
    "from sklearn.model_selection import GridSearchCV\n",
    "import warnings\n",
    "warnings.filterwarnings('ignore', category=FutureWarning)\n",
    "warnings.filterwarnings('ignore', category=DeprecationWarning)\n",
    "\n",
    "tr_features = pd.read_csv('../../../train_features.csv')\n",
    "tr_labels = pd.read_csv('../../../train_labels.csv', header=None)"
   ]
  },
  {
   "cell_type": "markdown",
   "metadata": {},
   "source": [
    "### Hyperparameter tuning\n",
    "\n",
    "![RF](../../img/rf.png)"
   ]
  },
  {
   "cell_type": "code",
   "execution_count": 2,
   "metadata": {},
   "outputs": [],
   "source": [
    "def print_results(results):\n",
    "    print('BEST PARAMS: {}\\n'.format(results.best_params_))\n",
    "\n",
    "    means = results.cv_results_['mean_test_score']\n",
    "    stds = results.cv_results_['std_test_score']\n",
    "    for mean, std, params in zip(means, stds, results.cv_results_['params']):\n",
    "        print('{} (+/-{}) for {}'.format(round(mean, 3), round(std * 2, 3), params))"
   ]
  },
  {
   "cell_type": "code",
   "execution_count": 7,
   "metadata": {},
   "outputs": [
    {
     "name": "stdout",
     "output_type": "stream",
     "text": [
      "BEST PARAMS: {'max_depth': 4, 'n_estimators': 250}\n",
      "\n",
      "0.753 (+/-0.087) for {'max_depth': 2, 'n_estimators': 5}\n",
      "0.79 (+/-0.116) for {'max_depth': 2, 'n_estimators': 50}\n",
      "0.8 (+/-0.144) for {'max_depth': 2, 'n_estimators': 250}\n",
      "0.816 (+/-0.095) for {'max_depth': 4, 'n_estimators': 5}\n",
      "0.822 (+/-0.118) for {'max_depth': 4, 'n_estimators': 50}\n",
      "0.828 (+/-0.118) for {'max_depth': 4, 'n_estimators': 250}\n",
      "0.816 (+/-0.079) for {'max_depth': 8, 'n_estimators': 5}\n",
      "0.824 (+/-0.054) for {'max_depth': 8, 'n_estimators': 50}\n",
      "0.816 (+/-0.067) for {'max_depth': 8, 'n_estimators': 250}\n",
      "0.809 (+/-0.045) for {'max_depth': 16, 'n_estimators': 5}\n",
      "0.805 (+/-0.015) for {'max_depth': 16, 'n_estimators': 50}\n",
      "0.811 (+/-0.018) for {'max_depth': 16, 'n_estimators': 250}\n",
      "0.811 (+/-0.036) for {'max_depth': 32, 'n_estimators': 5}\n",
      "0.805 (+/-0.024) for {'max_depth': 32, 'n_estimators': 50}\n",
      "0.809 (+/-0.028) for {'max_depth': 32, 'n_estimators': 250}\n",
      "0.788 (+/-0.065) for {'max_depth': None, 'n_estimators': 5}\n",
      "0.813 (+/-0.027) for {'max_depth': None, 'n_estimators': 50}\n",
      "0.807 (+/-0.031) for {'max_depth': None, 'n_estimators': 250}\n"
     ]
    }
   ],
   "source": [
    "rf = RandomForestClassifier()\n",
    "parameters = {\n",
    "    'n_estimators': [5, 50, 250],\n",
    "    'max_depth': [2, 4, 8, 16, 32, None]\n",
    "}\n",
    "\n",
    "cv = GridSearchCV(rf, parameters, cv=5)\n",
    "cv.fit(tr_features, tr_labels.values.ravel())\n",
    "\n",
    "print_results(cv)"
   ]
  },
  {
   "cell_type": "markdown",
   "metadata": {},
   "source": [
    "### Write out pickled model"
   ]
  },
  {
   "cell_type": "code",
   "execution_count": 8,
   "metadata": {},
   "outputs": [
    {
     "data": {
      "text/plain": [
       "['../../../RF_model.pkl']"
      ]
     },
     "execution_count": 8,
     "metadata": {},
     "output_type": "execute_result"
    }
   ],
   "source": [
    "joblib.dump(cv.best_estimator_, '../../../RF_model.pkl')"
   ]
  },
  {
   "cell_type": "code",
   "execution_count": null,
   "metadata": {},
   "outputs": [],
   "source": []
  }
 ],
 "metadata": {
  "kernelspec": {
   "display_name": "Python 3",
   "language": "python",
   "name": "python3"
  },
  "language_info": {
   "codemirror_mode": {
    "name": "ipython",
    "version": 3
   },
   "file_extension": ".py",
   "mimetype": "text/x-python",
   "name": "python",
   "nbconvert_exporter": "python",
   "pygments_lexer": "ipython3",
   "version": "3.7.1"
  }
 },
 "nbformat": 4,
 "nbformat_minor": 2
}
